{
 "cells": [
  {
   "cell_type": "code",
   "execution_count": 2,
   "metadata": {},
   "outputs": [
    {
     "name": "stdout",
     "output_type": "stream",
     "text": [
      "<Response [403]>\n"
     ]
    }
   ],
   "source": [
    "# collecting Team Statistics\n",
    "\n",
    "import requests\n",
    "from bs4 import BeautifulSoup\n",
    "import pandas as pd\n",
    "\n",
    "# Step 1: Send a GET request to the webpage with headers\n",
    "url = \"https://www.uefa.com/euro2024/statistics/teams/?sortBy=matches_appearance&order=asc\"\n",
    "response = requests.get(url)\n",
    "print(response)\n",
    "# response.raise_for_status()  # Check if the request was successful\n",
    "\n",
    "# Step 2: Parse the webpage content with BeautifulSoup\n",
    "# soup = BeautifulSoup(response.content, \"html.parser\")\n",
    "\n",
    "# Step 3: Initialize lists to store data\n",
    "# teams_data = []\n",
    "\n",
    "# Step 4: Find and extract the relevant data by their specific classes\n",
    "# For example, assume the following classes (replace with actual class names):\n",
    "# team_class_name =\"ag-cell ag-cell-not-inline-editing ag-cell-auto-height ag-cell-last-left-pinned pk-justify-content--start\"\n",
    "\n",
    "# matches_played_class_name = \"ag-cell ag-cell-not-inline-editing ag-cell-auto-height\"\n",
    "\n",
    "# team_names = soup.find_all('span', class_=team_class_name)\n",
    "# print(team_names)\n",
    "# matches_played = soup.find_all('div', class_='matches-played-class')\n",
    "# won = soup.find_all('div', class_='won-class')\n",
    "# drawn = soup.find_all('div', class_='drawn-class')\n",
    "# lost = soup.find_all('div', class_='lost-class')\n",
    "\n",
    "# Step 5: Combine the extracted data into a list of dictionaries\n"
   ]
  }
 ],
 "metadata": {
  "kernelspec": {
   "display_name": "Python 3",
   "language": "python",
   "name": "python3"
  },
  "language_info": {
   "codemirror_mode": {
    "name": "ipython",
    "version": 3
   },
   "file_extension": ".py",
   "mimetype": "text/x-python",
   "name": "python",
   "nbconvert_exporter": "python",
   "pygments_lexer": "ipython3",
   "version": "3.9.13"
  }
 },
 "nbformat": 4,
 "nbformat_minor": 2
}
