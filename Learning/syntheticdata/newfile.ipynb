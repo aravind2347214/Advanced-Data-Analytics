{
 "cells": [
  {
   "cell_type": "code",
   "execution_count": 1,
   "metadata": {},
   "outputs": [
    {
     "name": "stdout",
     "output_type": "stream",
     "text": [
      "                             CustomerID             Name DateOfBirth  Gender   \n",
      "0  c8944121-c83c-4470-a377-7bcd4bcaee30  Jeremy Hatfield  1958-02-21    Male  \\\n",
      "1  6dd1e095-9e58-46c7-9898-006bc1362183  Todd Harmon DDS  2002-10-15    Male   \n",
      "2  c83a68a6-cd9f-413c-8425-9f00d5599941     Meghan Hardy  1996-02-14    Male   \n",
      "3  a500bba5-34cc-4d52-98ba-d82e13a045c4      Mary Dillon  1948-09-25  Female   \n",
      "4  e13ed4bd-eae0-4de9-bb64-0da4f55db42b       Aaron Duke  1963-12-11  Female   \n",
      "\n",
      "                                             Address        PhoneNumber   \n",
      "0             4881 Potter Ford\\nHaleymouth, IL 67129   275.330.8004x461  \\\n",
      "1     7930 Russell Meadows\\nLake Garyville, PW 01756         2366026999   \n",
      "2      8110 Kimberly Course\\nNorth Carolyn, WY 23014  (393)917-3139x281   \n",
      "3           38853 Sandra Coves\\nBerrymouth, NE 57211  386-826-1441x4432   \n",
      "4  6327 Williams Via Apt. 761\\nLake Chelseaboroug...   001-291-885-7232   \n",
      "\n",
      "                       Email  AccountBalance AccountType LastTransactionDate  \n",
      "0         sstark@example.com          727716     Savings          2020-02-04  \n",
      "1          kchoi@example.com          836685     Savings          2020-04-23  \n",
      "2       shelly86@example.org          200807      Credit          2023-06-19  \n",
      "3  perkinsjoseph@example.org          531350     Savings          2022-08-20  \n",
      "4  jenkinssteven@example.org           44932     Savings          2021-07-03  \n"
     ]
    }
   ],
   "source": [
    "from faker import Faker\n",
    "import pandas as pd\n",
    "\n",
    "fake = Faker()\n",
    "data = {\n",
    "    'CustomerID': [fake.uuid4() for _ in range(100)],\n",
    "    'Name': [fake.name() for _ in range(100)],\n",
    "    'DateOfBirth': [fake.date_of_birth(minimum_age=18, maximum_age=80).strftime('%Y-%m-%d') for _ in range(100)],\n",
    "    'Gender': [fake.random_element(elements=['Male', 'Female']) for _ in range(100)],\n",
    "    'Address': [fake.address() for _ in range(100)],\n",
    "    'PhoneNumber': [fake.phone_number() for _ in range(100)],\n",
    "    'Email': [fake.email() for _ in range(100)],\n",
    "    'AccountBalance': [fake.random_number(digits=6) for _ in range(100)],\n",
    "    'AccountType': [fake.random_element(elements=['Savings', 'Checking', 'Credit']) for _ in range(100)],\n",
    "    'LastTransactionDate': [fake.date_this_decade(before_today=True, after_today=False).strftime('%Y-%m-%d') for _ in range(100)],\n",
    "}\n",
    "\n",
    "df = pd.DataFrame(data)\n",
    "\n",
    "print(df.head())\n",
    "\n",
    "df.to_csv('synthetic_banking_data.csv', index=False)"
   ]
  }
 ],
 "metadata": {
  "kernelspec": {
   "display_name": "Python 3",
   "language": "python",
   "name": "python3"
  },
  "language_info": {
   "codemirror_mode": {
    "name": "ipython",
    "version": 3
   },
   "file_extension": ".py",
   "mimetype": "text/x-python",
   "name": "python",
   "nbconvert_exporter": "python",
   "pygments_lexer": "ipython3",
   "version": "3.9.13"
  }
 },
 "nbformat": 4,
 "nbformat_minor": 2
}
