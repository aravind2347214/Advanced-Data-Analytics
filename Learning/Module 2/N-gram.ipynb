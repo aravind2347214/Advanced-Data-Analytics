{
 "cells": [
  {
   "cell_type": "code",
   "execution_count": 1,
   "metadata": {},
   "outputs": [
    {
     "name": "stdout",
     "output_type": "stream",
     "text": [
      "Unigrams:\n",
      "[('I',), ('love',), ('natural',), ('language',), ('processing',)]\n"
     ]
    }
   ],
   "source": [
    "import nltk\n",
    "from nltk import word_tokenize\n",
    "\n",
    "text = \"I love natural language processing\"\n",
    "\n",
    "# Tokenize the text into words\n",
    "words = word_tokenize(text)\n",
    "\n",
    "# Generate unigrams\n",
    "unigrams = list(nltk.ngrams(words, 1))\n",
    "\n",
    "print(\"Unigrams:\")\n",
    "print(unigrams)\n"
   ]
  },
  {
   "cell_type": "code",
   "execution_count": 2,
   "metadata": {},
   "outputs": [
    {
     "name": "stdout",
     "output_type": "stream",
     "text": [
      "Bigrams:\n",
      "[('I', 'love'), ('love', 'natural'), ('natural', 'language'), ('language', 'processing')]\n"
     ]
    }
   ],
   "source": [
    "# Generate bigrams\n",
    "bigrams = list(nltk.ngrams(words, 2))\n",
    "\n",
    "print(\"Bigrams:\")\n",
    "print(bigrams)\n"
   ]
  },
  {
   "cell_type": "code",
   "execution_count": 4,
   "metadata": {},
   "outputs": [
    {
     "name": "stdout",
     "output_type": "stream",
     "text": [
      "Trigrams:\n",
      "[('I', 'love', 'natural'), ('love', 'natural', 'language'), ('natural', 'language', 'processing')]\n"
     ]
    }
   ],
   "source": [
    "# Generate trigrams\n",
    "trigrams = list(nltk.ngrams(words, 3))\n",
    "\n",
    "print(\"Trigrams:\")\n",
    "print(trigrams)\n"
   ]
  },
  {
   "cell_type": "code",
   "execution_count": 3,
   "metadata": {},
   "outputs": [
    {
     "name": "stdout",
     "output_type": "stream",
     "text": [
      "Bigrams:\n",
      "['is fascinating' 'language processing' 'love natural' 'natural language'\n",
      " 'processing is']\n",
      "Bigram Matrix:\n",
      "[[0 1 1 1 0]\n",
      " [1 1 0 1 1]]\n"
     ]
    }
   ],
   "source": [
    "from sklearn.feature_extraction.text import CountVectorizer\n",
    "\n",
    "text = [\"I love natural language processing\", \"Natural language processing is fascinating\"]\n",
    "\n",
    "# Initialize the CountVectorizer for bigrams\n",
    "vectorizer = CountVectorizer(ngram_range=(2, 2))\n",
    "\n",
    "# Fit and transform the text\n",
    "X = vectorizer.fit_transform(text)\n",
    "\n",
    "# Get the feature names (bigrams)\n",
    "bigrams = vectorizer.get_feature_names_out()\n",
    "\n",
    "print(\"Bigrams:\")\n",
    "print(bigrams)\n",
    "\n",
    "# Convert the matrix to an array and print\n",
    "print(\"Bigram Matrix:\")\n",
    "print(X.toarray())\n"
   ]
  }
 ],
 "metadata": {
  "kernelspec": {
   "display_name": "Python 3",
   "language": "python",
   "name": "python3"
  },
  "language_info": {
   "codemirror_mode": {
    "name": "ipython",
    "version": 3
   },
   "file_extension": ".py",
   "mimetype": "text/x-python",
   "name": "python",
   "nbconvert_exporter": "python",
   "pygments_lexer": "ipython3",
   "version": "3.9.13"
  }
 },
 "nbformat": 4,
 "nbformat_minor": 2
}
