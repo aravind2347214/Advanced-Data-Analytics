{
 "cells": [
  {
   "cell_type": "code",
   "execution_count": 2,
   "metadata": {},
   "outputs": [
    {
     "name": "stdout",
     "output_type": "stream",
     "text": [
      "Original Words: ['running', 'runner', 'runs', 'easily', 'fair', 'fairly']\n",
      "Porter Stems: ['run', 'runner', 'run', 'easili', 'fair', 'fairli']\n",
      "Lancaster Stems: ['run', 'run', 'run', 'easy', 'fair', 'fair']\n",
      "Snowball Stems: ['run', 'runner', 'run', 'easili', 'fair', 'fair']\n"
     ]
    }
   ],
   "source": [
    "import nltk\n",
    "from nltk.stem import PorterStemmer, LancasterStemmer, SnowballStemmer\n",
    "\n",
    "# Download necessary NLTK data files\n",
    "# Initialize the stemmers\n",
    "porter = PorterStemmer()\n",
    "lancaster = LancasterStemmer()\n",
    "snowball = SnowballStemmer('english')\n",
    "\n",
    "text = \"running runner runs easily fair fairly\"\n",
    "\n",
    "# Tokenize the text\n",
    "words = nltk.word_tokenize(text)\n",
    "\n",
    "# Apply stemming\n",
    "porter_stems = [porter.stem(word) for word in words]\n",
    "lancaster_stems = [lancaster.stem(word) for word in words]\n",
    "snowball_stems = [snowball.stem(word) for word in words]\n",
    "\n",
    "print(\"Original Words:\", words)\n",
    "print(\"Porter Stems:\", porter_stems)\n",
    "print(\"Lancaster Stems:\", lancaster_stems)\n",
    "print(\"Snowball Stems:\", snowball_stems)\n"
   ]
  },
  {
   "cell_type": "code",
   "execution_count": 3,
   "metadata": {},
   "outputs": [
    {
     "name": "stdout",
     "output_type": "stream",
     "text": [
      "Original Words: ['running', 'runner', 'runs', 'easily', 'fair', 'fairly']\n",
      "Snowball Stems: ['run', 'runner', 'run', 'easili', 'fair', 'fair']\n"
     ]
    }
   ],
   "source": [
    "import spacy\n",
    "from nltk.stem import SnowballStemmer\n",
    "\n",
    "# Load the small English model\n",
    "nlp = spacy.load(\"en_core_web_sm\")\n",
    "\n",
    "# Initialize the Snowball stemmer\n",
    "snowball = SnowballStemmer('english')\n",
    "\n",
    "text = \"running runner runs easily fair fairly\"\n",
    "\n",
    "# Process the text with spaCy\n",
    "doc = nlp(text)\n",
    "\n",
    "# Apply stemming on tokens tokenized using spacy\n",
    "stems = [snowball.stem(token.text) for token in doc]\n",
    "\n",
    "print(\"Original Words:\", [token.text for token in doc])\n",
    "print(\"Snowball Stems:\", stems)\n"
   ]
  },
  {
   "cell_type": "code",
   "execution_count": 5,
   "metadata": {},
   "outputs": [
    {
     "name": "stdout",
     "output_type": "stream",
     "text": [
      "Original Words: ['running', 'runner', 'runs', 'easily', 'fair', 'fairly']\n",
      "Lemmas: ['running', 'runner', 'run', 'easily', 'fair', 'fairly']\n"
     ]
    }
   ],
   "source": [
    "import nltk\n",
    "from nltk.stem import WordNetLemmatizer\n",
    "\n",
    "# Download necessary NLTK data files\n",
    "\n",
    "# Initialize the lemmatizer\n",
    "lemmatizer = WordNetLemmatizer()\n",
    "\n",
    "text = \"running runner runs easily fair fairly\"\n",
    "\n",
    "# Tokenize the text\n",
    "words = nltk.word_tokenize(text)\n",
    "\n",
    "# Apply lemmatization\n",
    "lemmas = [lemmatizer.lemmatize(word) for word in words]\n",
    "\n",
    "print(\"Original Words:\", words)\n",
    "print(\"Lemmas:\", lemmas)\n"
   ]
  },
  {
   "cell_type": "code",
   "execution_count": 6,
   "metadata": {},
   "outputs": [
    {
     "name": "stdout",
     "output_type": "stream",
     "text": [
      "Original Words: ['running', 'runner', 'runs', 'easily', 'fair', 'fairly']\n",
      "Lemmas: ['run', 'runner', 'run', 'easily', 'fair', 'fairly']\n"
     ]
    }
   ],
   "source": [
    "import spacy\n",
    "\n",
    "# Load the small English model\n",
    "nlp = spacy.load(\"en_core_web_sm\")\n",
    "\n",
    "text = \"running runner runs easily fair fairly\"\n",
    "\n",
    "# Process the text with spaCy\n",
    "doc = nlp(text)\n",
    "\n",
    "# Extract lemmas\n",
    "lemmas = [token.lemma_ for token in doc]\n",
    "\n",
    "print(\"Original Words:\", [token.text for token in doc])\n",
    "print(\"Lemmas:\", lemmas)\n"
   ]
  }
 ],
 "metadata": {
  "kernelspec": {
   "display_name": "Python 3",
   "language": "python",
   "name": "python3"
  },
  "language_info": {
   "codemirror_mode": {
    "name": "ipython",
    "version": 3
   },
   "file_extension": ".py",
   "mimetype": "text/x-python",
   "name": "python",
   "nbconvert_exporter": "python",
   "pygments_lexer": "ipython3",
   "version": "3.9.13"
  }
 },
 "nbformat": 4,
 "nbformat_minor": 2
}
